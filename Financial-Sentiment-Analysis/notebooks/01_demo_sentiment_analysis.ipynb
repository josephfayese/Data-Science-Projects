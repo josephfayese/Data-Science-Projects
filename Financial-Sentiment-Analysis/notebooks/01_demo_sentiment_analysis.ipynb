{
 "cells": [
  {
   "cell_type": "markdown",
   "metadata": {},
   "source": [
    "# Financial Sentiment Analysis Demo\n",
    "\n",
    "This notebook demonstrates the complete workflow of the Financial Sentiment Analysis tool:\n",
    "1. Data Collection from news, Twitter, and RSS feeds\n",
    "2. Sentiment Analysis using multiple NLP models\n",
    "3. Price Data Collection for Bitcoin and USD/NGN\n",
    "4. Correlation Analysis between sentiment and prices\n",
    "5. Visualization and Reporting"
   ]
  },
  {
   "cell_type": "markdown",
   "metadata": {},
   "source": [
    "## Setup and Imports"
   ]
  },
  {
   "cell_type": "code",
   "execution_count": null,
   "metadata": {},
   "outputs": [],
   "source": [
    "import sys\n",
    "from pathlib import Path\n",
    "import warnings\n",
    "\n",
    "# Add parent directory to path\n",
    "sys.path.insert(0, str(Path.cwd().parent))\n",
    "\n",
    "warnings.filterwarnings('ignore')\n",
    "\n",
    "# Import required modules\n",
    "from src.config.settings import Config\n",
    "from src.data.collectors import NewsCollector, RSSFeedCollector, PriceCollector\n",
    "from src.data.twitter_collector import TwitterCollector\n",
    "from src.data.preprocessors import DataFramePreprocessor, TextPreprocessor\n",
    "from src.sentiment.analyzers import EnsembleAnalyzer, ArticleSentimentAnalyzer\n",
    "from src.models.correlation import CorrelationAnalyzer, PredictiveAnalyzer\n",
    "from src.utils.visualization import SentimentVisualizer, PriceVisualizer, CorrelationVisualizer\n",
    "\n",
    "import pandas as pd\n",
    "import numpy as np\n",
    "from datetime import datetime, timedelta\n",
    "\n",
    "print(\"✓ Imports successful!\")\n",
    "print(f\"Base directory: {Config.BASE_DIR}\")"
   ]
  },
  {
   "cell_type": "markdown",
   "metadata": {},
   "source": [
    "## 1. Data Collection\n",
    "\n",
    "### 1.1 Collect News Articles"
   ]
  },
  {
   "cell_type": "code",
   "execution_count": null,
   "metadata": {},
   "outputs": [],
   "source": [
    "# Initialize news collector\n",
    "news_collector = NewsCollector()\n",
    "\n",
    "# Collect news about Bitcoin and Nigeria\n",
    "print(\"Collecting news articles...\")\n",
    "news_articles = news_collector.collect_news(\n",
    "    keywords=[\"Bitcoin\", \"Nigeria\", \"cryptocurrency\"],\n",
    "    from_date=datetime.now() - timedelta(days=3)\n",
    ")\n",
    "\n",
    "print(f\"✓ Collected {len(news_articles)} news articles\")\n",
    "\n",
    "# Display sample article\n",
    "if news_articles:\n",
    "    print(\"\\nSample article:\")\n",
    "    sample = news_articles[0]\n",
    "    print(f\"Title: {sample.get('title')}\")\n",
    "    print(f\"Source: {sample.get('source')}\")\n",
    "    print(f\"Published: {sample.get('published_at')}\")"
   ]
  },
  {
   "cell_type": "markdown",
   "metadata": {},
   "source": [
    "### 1.2 Collect RSS Feeds"
   ]
  },
  {
   "cell_type": "code",
   "execution_count": null,
   "metadata": {},
   "outputs": [],
   "source": [
    "# Initialize RSS collector\n",
    "rss_collector = RSSFeedCollector()\n",
    "\n",
    "# Collect from RSS feeds\n",
    "print(\"Collecting from RSS feeds...\")\n",
    "rss_articles = rss_collector.collect_all_feeds(max_entries_per_feed=10)\n",
    "\n",
    "print(f\"✓ Collected {len(rss_articles)} RSS articles\")\n",
    "\n",
    "# Combine all articles\n",
    "all_articles = news_articles + rss_articles\n",
    "print(f\"\\nTotal articles: {len(all_articles)}\")"
   ]
  },
  {
   "cell_type": "markdown",
   "metadata": {},
   "source": [
    "### 1.3 Collect Price Data"
   ]
  },
  {
   "cell_type": "code",
   "execution_count": null,
   "metadata": {},
   "outputs": [],
   "source": [
    "# Initialize price collector\n",
    "price_collector = PriceCollector()\n",
    "\n",
    "# Get current prices\n",
    "print(\"Fetching current prices...\")\n",
    "current_prices = price_collector.get_current_prices()\n",
    "print(\"\\nCurrent Prices:\")\n",
    "for symbol, price in current_prices.items():\n",
    "    if symbol != 'timestamp':\n",
    "        print(f\"  {symbol}: ${price:,.2f}\" if isinstance(price, (int, float)) else f\"  {symbol}: {price}\")\n",
    "\n",
    "# Get historical prices\n",
    "print(\"\\nFetching historical prices (7 days)...\")\n",
    "price_df = price_collector.get_historical_prices(period='7d')\n",
    "print(f\"✓ Collected {len(price_df)} price records\")\n",
    "print(f\"\\nPrice data shape: {price_df.shape}\")\n",
    "print(price_df.tail())"
   ]
  },
  {
   "cell_type": "markdown",
   "metadata": {},
   "source": [
    "## 2. Data Preprocessing"
   ]
  },
  {
   "cell_type": "code",
   "execution_count": null,
   "metadata": {},
   "outputs": [],
   "source": [
    "# Initialize preprocessor\n",
    "preprocessor = DataFramePreprocessor()\n",
    "\n",
    "# Convert articles to DataFrame\n",
    "print(\"Preprocessing articles...\")\n",
    "articles_df = preprocessor.articles_to_dataframe(all_articles)\n",
    "\n",
    "print(f\"✓ Articles DataFrame shape: {articles_df.shape}\")\n",
    "print(f\"\\nColumns: {articles_df.columns.tolist()}\")\n",
    "print(f\"\\nFirst few articles:\")\n",
    "articles_df[['title', 'source', 'published_at']].head()"
   ]
  },
  {
   "cell_type": "markdown",
   "metadata": {},
   "source": [
    "## 3. Sentiment Analysis"
   ]
  },
  {
   "cell_type": "code",
   "execution_count": null,
   "metadata": {},
   "outputs": [],
   "source": [
    "# Initialize sentiment analyzer\n",
    "sentiment_analyzer = ArticleSentimentAnalyzer()\n",
    "\n",
    "# Analyze sentiment\n",
    "print(\"Analyzing sentiment...\")\n",
    "articles_with_sentiment = sentiment_analyzer.analyze_articles(all_articles)\n",
    "\n",
    "# Convert to DataFrame\n",
    "sentiment_df = preprocessor.articles_to_dataframe(articles_with_sentiment)\n",
    "\n",
    "print(f\"✓ Sentiment analysis complete!\")\n",
    "print(f\"\\nSentiment distribution:\")\n",
    "print(sentiment_df['sentiment_label'].value_counts())\n",
    "print(f\"\\nAverage sentiment score: {sentiment_df['sentiment_score'].mean():.3f}\")\n",
    "\n",
    "# Display sample\n",
    "print(\"\\nSample sentiment analysis:\")\n",
    "sentiment_df[['title', 'sentiment_score', 'sentiment_label']].head(10)"
   ]
  },
  {
   "cell_type": "markdown",
   "metadata": {},
   "source": [
    "## 4. Sentiment Visualizations"
   ]
  },
  {
   "cell_type": "code",
   "execution_count": null,
   "metadata": {},
   "outputs": [],
   "source": [
    "# Initialize visualizer\n",
    "sent_viz = SentimentVisualizer()\n",
    "\n",
    "# Plot sentiment distribution\n",
    "print(\"Creating sentiment distribution plot...\")\n",
    "sent_viz.plot_sentiment_distribution(sentiment_df)"
   ]
  },
  {
   "cell_type": "code",
   "execution_count": null,
   "metadata": {},
   "outputs": [],
   "source": [
    "# Plot sentiment timeline\n",
    "print(\"Creating sentiment timeline...\")\n",
    "sent_viz.plot_sentiment_timeline(sentiment_df, freq='6H')"
   ]
  },
  {
   "cell_type": "markdown",
   "metadata": {},
   "source": [
    "## 5. Price Visualizations"
   ]
  },
  {
   "cell_type": "code",
   "execution_count": null,
   "metadata": {},
   "outputs": [],
   "source": [
    "# Initialize price visualizer\n",
    "price_viz = PriceVisualizer()\n",
    "\n",
    "# Plot price timeline\n",
    "print(\"Creating price timeline...\")\n",
    "price_viz.plot_price_timeline(price_df)"
   ]
  },
  {
   "cell_type": "markdown",
   "metadata": {},
   "source": [
    "## 6. Correlation Analysis"
   ]
  },
  {
   "cell_type": "code",
   "execution_count": null,
   "metadata": {},
   "outputs": [],
   "source": [
    "# Initialize correlation analyzer\n",
    "corr_analyzer = CorrelationAnalyzer()\n",
    "\n",
    "# Analyze correlation for Bitcoin\n",
    "if 'BTC-USD' in price_df.columns:\n",
    "    print(\"Analyzing Bitcoin sentiment-price correlation...\")\n",
    "    btc_corr = corr_analyzer.analyze_sentiment_price_correlation(\n",
    "        sentiment_df, price_df, asset='BTC-USD'\n",
    "    )\n",
    "    \n",
    "    print(f\"\\nBitcoin Correlation Results:\")\n",
    "    print(f\"Samples: {btc_corr['samples']}\")\n",
    "    print(f\"\\nCorrelations by time horizon:\")\n",
    "    for period, corr in btc_corr.get('correlations', {}).items():\n",
    "        pearson = corr['pearson']\n",
    "        print(f\"  {period}: r={pearson['correlation']:.3f}, p={pearson['p_value']:.4f}\")\n",
    "    \n",
    "    if 'best_lag' in btc_corr:\n",
    "        lag = btc_corr['best_lag']\n",
    "        print(f\"\\nBest lag: {lag['lag']} hours\")\n",
    "        print(f\"Correlation at best lag: {lag['correlation']:.3f}\")\n",
    "        print(f\"P-value: {lag['p_value']:.4f}\")"
   ]
  },
  {
   "cell_type": "markdown",
   "metadata": {},
   "source": [
    "## 7. Correlation Visualizations"
   ]
  },
  {
   "cell_type": "code",
   "execution_count": null,
   "metadata": {},
   "outputs": [],
   "source": [
    "# Initialize correlation visualizer\n",
    "corr_viz = CorrelationVisualizer()\n",
    "\n",
    "# Plot sentiment vs price correlation\n",
    "if 'BTC-USD' in price_df.columns:\n",
    "    print(\"Creating sentiment-price correlation plot...\")\n",
    "    corr_viz.plot_sentiment_price_correlation(\n",
    "        sentiment_df, price_df, price_col='BTC-USD'\n",
    "    )"
   ]
  },
  {
   "cell_type": "markdown",
   "metadata": {},
   "source": [
    "## 8. Predictive Analysis"
   ]
  },
  {
   "cell_type": "code",
   "execution_count": null,
   "metadata": {},
   "outputs": [],
   "source": [
    "# Initialize predictive analyzer\n",
    "pred_analyzer = PredictiveAnalyzer()\n",
    "\n",
    "# Calculate directional accuracy\n",
    "if 'BTC-USD' in price_df.columns:\n",
    "    print(\"Analyzing predictive accuracy...\")\n",
    "    accuracy = pred_analyzer.calculate_directional_accuracy(\n",
    "        sentiment_df, price_df, asset='BTC-USD', lag=1\n",
    "    )\n",
    "    \n",
    "    print(f\"\\nPredictive Accuracy Results:\")\n",
    "    print(f\"Overall accuracy: {accuracy.get('overall_accuracy', 0):.2%}\")\n",
    "    print(f\"Positive sentiment accuracy: {accuracy.get('positive_sentiment_accuracy', 0):.2%}\")\n",
    "    print(f\"Negative sentiment accuracy: {accuracy.get('negative_sentiment_accuracy', 0):.2%}\")\n",
    "    print(f\"Total samples: {accuracy.get('total_samples', 0)}\")"
   ]
  },
  {
   "cell_type": "markdown",
   "metadata": {},
   "source": [
    "## 9. Summary Report"
   ]
  },
  {
   "cell_type": "code",
   "execution_count": null,
   "metadata": {},
   "outputs": [],
   "source": [
    "# Generate summary report\n",
    "report = {\n",
    "    'timestamp': datetime.now().isoformat(),\n",
    "    'data_collection': {\n",
    "        'total_articles': len(all_articles),\n",
    "        'news_articles': len(news_articles),\n",
    "        'rss_articles': len(rss_articles),\n",
    "        'price_records': len(price_df) if price_df is not None else 0\n",
    "    },\n",
    "    'sentiment_analysis': {\n",
    "        'positive': int((sentiment_df['sentiment_label'] == 'positive').sum()),\n",
    "        'negative': int((sentiment_df['sentiment_label'] == 'negative').sum()),\n",
    "        'neutral': int((sentiment_df['sentiment_label'] == 'neutral').sum()),\n",
    "        'avg_score': float(sentiment_df['sentiment_score'].mean()),\n",
    "        'std_score': float(sentiment_df['sentiment_score'].std())\n",
    "    },\n",
    "    'correlation': btc_corr if 'BTC-USD' in price_df.columns else None,\n",
    "    'predictive_accuracy': accuracy if 'BTC-USD' in price_df.columns else None\n",
    "}\n",
    "\n",
    "import json\n",
    "print(\"\\n\" + \"=\"*80)\n",
    "print(\"SUMMARY REPORT\")\n",
    "print(\"=\"*80)\n",
    "print(json.dumps(report, indent=2, default=str))"
   ]
  },
  {
   "cell_type": "markdown",
   "metadata": {},
   "source": [
    "## 10. Save Results"
   ]
  },
  {
   "cell_type": "code",
   "execution_count": null,
   "metadata": {},
   "outputs": [],
   "source": [
    "# Save sentiment data\n",
    "timestamp = datetime.now().strftime('%Y%m%d_%H%M%S')\n",
    "\n",
    "# Save to CSV\n",
    "sentiment_csv = Config.PROCESSED_DATA_DIR / f'sentiment_{timestamp}.csv'\n",
    "sentiment_df.to_csv(sentiment_csv, index=False)\n",
    "print(f\"✓ Sentiment data saved to {sentiment_csv}\")\n",
    "\n",
    "# Save report to JSON\n",
    "report_json = Config.PROCESSED_DATA_DIR / f'report_{timestamp}.json'\n",
    "with open(report_json, 'w') as f:\n",
    "    json.dump(report, f, indent=2, default=str)\n",
    "print(f\"✓ Report saved to {report_json}\")\n",
    "\n",
    "print(\"\\n✓ Analysis complete!\")"
   ]
  }
 ],
 "metadata": {
  "kernelspec": {
   "display_name": "Python 3",
   "language": "python",
   "name": "python3"
  },
  "language_info": {
   "codemirror_mode": {
    "name": "ipython",
    "version": 3
   },
   "file_extension": ".py",
   "mimetype": "text/x-python",
   "name": "python",
   "nbconvert_exporter": "python",
   "pygments_lexer": "ipython3",
   "version": "3.8.0"
  }
 },
 "nbformat": 4,
 "nbformat_minor": 4
}
